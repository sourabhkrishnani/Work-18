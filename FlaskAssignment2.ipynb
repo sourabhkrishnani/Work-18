{
 "cells": [
  {
   "cell_type": "code",
   "execution_count": 3,
   "id": "b8dab25c-a8f9-4cd8-acff-025dc90a108b",
   "metadata": {},
   "outputs": [],
   "source": [
    "#Q1"
   ]
  },
  {
   "cell_type": "markdown",
   "id": "57a3008d-ceaa-49a1-b786-786447517b1c",
   "metadata": {},
   "source": [
    "GET and POST are two of the HTTP methods that a client can use to request information from a web server or submit data to be processed by a web server. These methods are fundamental to how web browsers and servers communicate.\n",
    "\n",
    "GET Method:\n",
    "Purpose: The GET method is used to request data from a specified resource. It sends a request to the server to retrieve a specific resource, and the server responds by returning the requested data.\n",
    "\n",
    "Data in URL: Parameters and data are included in the URL, visible to everyone. For example, in http://example.com/page?param=value, the parameters are included in the URL.\n",
    "\n",
    "Caching: GET requests can be cached, allowing browsers to store a copy of the response data and reuse it if the same request is made again.\n",
    "\n",
    "Idempotent: GET requests are idempotent, meaning making the same request multiple times will produce the same result.\n",
    "\n",
    "Security: GET requests should not be used for sensitive data or operations because the data is visible in the URL and can be logged by servers or cached by browsers.\n",
    "\n",
    "Example: Retrieving search results, accessing a webpage, or fetching an image."
   ]
  },
  {
   "cell_type": "markdown",
   "id": "6a49f8c9-0d9a-4711-b214-c490e43e3ac4",
   "metadata": {},
   "source": [
    "Use GET when:\n",
    "\n",
    "You want to retrieve data from the server.\n",
    "The request does not change the server's state."
   ]
  },
  {
   "cell_type": "markdown",
   "id": "dbd6e677-1ff4-4d3c-a9d4-d565c1b2c69c",
   "metadata": {},
   "source": [
    "POST Method:\n",
    "Purpose: The POST method is used to submit data to be processed to a specified resource.\n",
    "Data in Body: With POST, the data is sent in the body of the HTTP request, not in the URL. This means that POST can handle much larger amounts of data than GET.\n",
    "Visibility: Since the data is in the body, it is not visible in the URL, providing a more secure way to transmit sensitive information.\n",
    "Caching: POST requests are not cached by default. They do not remain in the browser history, making them suitable for sensitive data.\n",
    "Idempotent: POST requests are not idempotent. Making multiple identical requests may result in different outcomes each time.\n",
    "Use POST when:\n",
    "\n",
    "You want to submit data to the server, such as form submissions.\n",
    "The request can change the server's state."
   ]
  },
  {
   "cell_type": "code",
   "execution_count": 3,
   "id": "ac1a334e-6c06-48ed-a08c-d229a6ffa13c",
   "metadata": {},
   "outputs": [
    {
     "name": "stdout",
     "output_type": "stream",
     "text": [
      "GET Response:\n",
      "{'userId': 1, 'id': 1, 'title': 'sunt aut facere repellat provident occaecati excepturi optio reprehenderit', 'body': 'quia et suscipit\\nsuscipit recusandae consequuntur expedita et cum\\nreprehenderit molestiae ut ut quas totam\\nnostrum rerum est autem sunt rem eveniet architecto'}\n"
     ]
    }
   ],
   "source": [
    "from urllib import requests\n",
    "url = \"https://jsonplaceholder.typicode.com/posts/1\"\n",
    "response = requests.get(url)\n",
    "\n",
    "if response.status_code ==200:\n",
    "    data = response.json()\n",
    "    print(\"GET Response:\")\n",
    "    print(data)\n",
    "else:\n",
    "    print(\"GET Request Failed\")"
   ]
  },
  {
   "cell_type": "code",
   "execution_count": 4,
   "id": "a549478b-3da7-432d-a85e-42f4302eda5a",
   "metadata": {},
   "outputs": [
    {
     "name": "stdout",
     "output_type": "stream",
     "text": [
      "POST Request Successful\n"
     ]
    }
   ],
   "source": [
    "import requests\n",
    "\n",
    "# URL for the POST request\n",
    "url = \"https://jsonplaceholder.typicode.com/posts\"\n",
    "\n",
    "# Data to be sent in the POST request (as a dictionary)\n",
    "data = {\n",
    "    \"userId\": 1,\n",
    "    \"id\": 101,\n",
    "    \"title\": \"Sample Post\",\n",
    "    \"body\": \"This is the body of the sample post.\"\n",
    "}\n",
    "\n",
    "# Sending a POST request\n",
    "response = requests.post(url, json=data)\n",
    "\n",
    "# Handling the response\n",
    "if response.status_code == 201:\n",
    "    # Successful POST request\n",
    "    print(\"POST Request Successful\")\n",
    "else:\n",
    "    # Failed POST request\n",
    "    print(\"POST Request Failed\")\n"
   ]
  },
  {
   "cell_type": "code",
   "execution_count": 13,
   "id": "9bc68578-78ef-4cce-98b4-050fab24d9ee",
   "metadata": {},
   "outputs": [],
   "source": [
    "#Q2"
   ]
  },
  {
   "cell_type": "markdown",
   "id": "79f5632e-3fcf-4762-bd50-2458c30f35cf",
   "metadata": {},
   "source": [
    "In the context of Flask, the request object is used to access incoming data in your Flask application. It allows you to access form data, query parameters, uploaded files, and other information sent with the HTTP request from the client (typically a web browser). The request object in Flask is an instance of the Request class provided by the Werkzeug WSGI utility library, which Flask is built on top of.\n",
    "\n",
    "Here are some common use cases for the request object in Flask:"
   ]
  },
  {
   "cell_type": "markdown",
   "id": "f3530204-b677-4235-944f-42d50d269638",
   "metadata": {},
   "source": [
    "Accessing Form Data: When a user submits a form on a web page, the form data is sent in the HTTP request. Flask allows you to access this form data using the request.form object. For example, if you have a form field named username, you can access its value using request.form['username']."
   ]
  },
  {
   "cell_type": "code",
   "execution_count": 15,
   "id": "c2f70a9c-7363-4283-af82-2796ea70ebc2",
   "metadata": {},
   "outputs": [
    {
     "name": "stdout",
     "output_type": "stream",
     "text": [
      "Collecting flask\n",
      "  Downloading flask-3.0.0-py3-none-any.whl (99 kB)\n",
      "\u001b[2K     \u001b[90m━━━━━━━━━━━━━━━━━━━━━━━━━━━━━━━━━━━━━━━━\u001b[0m \u001b[32m99.7/99.7 kB\u001b[0m \u001b[31m3.8 MB/s\u001b[0m eta \u001b[36m0:00:00\u001b[0m\n",
      "\u001b[?25hRequirement already satisfied: Jinja2>=3.1.2 in /opt/conda/lib/python3.10/site-packages (from flask) (3.1.2)\n",
      "Collecting blinker>=1.6.2\n",
      "  Downloading blinker-1.6.3-py3-none-any.whl (13 kB)\n",
      "Requirement already satisfied: click>=8.1.3 in /opt/conda/lib/python3.10/site-packages (from flask) (8.1.3)\n",
      "Collecting itsdangerous>=2.1.2\n",
      "  Downloading itsdangerous-2.1.2-py3-none-any.whl (15 kB)\n",
      "Collecting Werkzeug>=3.0.0\n",
      "  Downloading werkzeug-3.0.0-py3-none-any.whl (226 kB)\n",
      "\u001b[2K     \u001b[90m━━━━━━━━━━━━━━━━━━━━━━━━━━━━━━━━━━━━━━\u001b[0m \u001b[32m226.6/226.6 kB\u001b[0m \u001b[31m26.4 MB/s\u001b[0m eta \u001b[36m0:00:00\u001b[0m\n",
      "\u001b[?25hRequirement already satisfied: MarkupSafe>=2.0 in /opt/conda/lib/python3.10/site-packages (from Jinja2>=3.1.2->flask) (2.1.1)\n",
      "Installing collected packages: Werkzeug, itsdangerous, blinker, flask\n",
      "  Attempting uninstall: blinker\n",
      "    Found existing installation: blinker 1.5\n",
      "    Uninstalling blinker-1.5:\n",
      "      Successfully uninstalled blinker-1.5\n",
      "Successfully installed Werkzeug-3.0.0 blinker-1.6.3 flask-3.0.0 itsdangerous-2.1.2\n",
      "Note: you may need to restart the kernel to use updated packages.\n"
     ]
    }
   ],
   "source": [
    "pip install flask"
   ]
  },
  {
   "cell_type": "code",
   "execution_count": 18,
   "id": "0f9b1e21-f521-4255-98ec-9d17d952a10d",
   "metadata": {},
   "outputs": [],
   "source": [
    "from flask import Flask, request\n",
    "\n",
    "app = Flask(__name__)\n",
    "\n",
    "@app.route('/submit', methods =['POST'])\n",
    "def submit():\n",
    "    username = request.form['username']\n",
    "    return 'Form submitted by {}'.format(username)"
   ]
  },
  {
   "cell_type": "markdown",
   "id": "53e4d6a1-a25c-48c5-872f-46f518a8776f",
   "metadata": {},
   "source": [
    "Handling Query Parameters: Query parameters are part of the URL and are often used to send data to the server. Flask allows you to access these parameters using the request.args object."
   ]
  },
  {
   "cell_type": "code",
   "execution_count": 19,
   "id": "9412062d-3ff1-42d2-85c1-cb3cb2ff75dd",
   "metadata": {},
   "outputs": [],
   "source": [
    "from flask import Flask, request \n",
    "\n",
    "app =Flask(__name__)\n",
    "\n",
    "@app.route('/query')\n",
    "def query():\n",
    "    name = request.args.get('name')\n",
    "    return 'Hello, {}'.format(name)"
   ]
  },
  {
   "cell_type": "markdown",
   "id": "b36b1bac-0eac-4e8f-ad26-3ee4b20c86cf",
   "metadata": {},
   "source": [
    "Working with JSON Data: If your client sends data in JSON format, you can access it using request.get_json()."
   ]
  },
  {
   "cell_type": "code",
   "execution_count": null,
   "id": "d2626109-e61c-4669-9a24-68e8d7213ccc",
   "metadata": {},
   "outputs": [],
   "source": [
    "from flask import Flask, request\n",
    "\n",
    "app = Flask(__name__)\n",
    "\n",
    "@app.route('/json', methods=['POST'])\n",
    "def json_example():\n",
    "    data = request.get_json()\n",
    "    # Process JSON data here\n",
    "    return 'Received JSON data: {}'.format(data)\n"
   ]
  },
  {
   "cell_type": "code",
   "execution_count": 1,
   "id": "3e5cbbf5-48eb-44bf-9a2d-a6b156ab3dd7",
   "metadata": {},
   "outputs": [],
   "source": [
    "#Q3"
   ]
  },
  {
   "cell_type": "code",
   "execution_count": 3,
   "id": "d71b2b5c-6bd9-483d-8229-888e8bf7e0f6",
   "metadata": {},
   "outputs": [
    {
     "name": "stdout",
     "output_type": "stream",
     "text": [
      "Collecting flask\n",
      "  Downloading flask-3.0.0-py3-none-any.whl (99 kB)\n",
      "\u001b[2K     \u001b[90m━━━━━━━━━━━━━━━━━━━━━━━━━━━━━━━━━━━━━━━━\u001b[0m \u001b[32m99.7/99.7 kB\u001b[0m \u001b[31m10.8 MB/s\u001b[0m eta \u001b[36m0:00:00\u001b[0m\n",
      "\u001b[?25hCollecting itsdangerous>=2.1.2\n",
      "  Downloading itsdangerous-2.1.2-py3-none-any.whl (15 kB)\n",
      "Requirement already satisfied: Jinja2>=3.1.2 in /opt/conda/lib/python3.10/site-packages (from flask) (3.1.2)\n",
      "Collecting Werkzeug>=3.0.0\n",
      "  Downloading werkzeug-3.0.0-py3-none-any.whl (226 kB)\n",
      "\u001b[2K     \u001b[90m━━━━━━━━━━━━━━━━━━━━━━━━━━━━━━━━━━━━━━\u001b[0m \u001b[32m226.6/226.6 kB\u001b[0m \u001b[31m30.4 MB/s\u001b[0m eta \u001b[36m0:00:00\u001b[0m\n",
      "\u001b[?25hCollecting blinker>=1.6.2\n",
      "  Downloading blinker-1.6.3-py3-none-any.whl (13 kB)\n",
      "Requirement already satisfied: click>=8.1.3 in /opt/conda/lib/python3.10/site-packages (from flask) (8.1.3)\n",
      "Requirement already satisfied: MarkupSafe>=2.0 in /opt/conda/lib/python3.10/site-packages (from Jinja2>=3.1.2->flask) (2.1.1)\n",
      "Installing collected packages: Werkzeug, itsdangerous, blinker, flask\n",
      "  Attempting uninstall: blinker\n",
      "    Found existing installation: blinker 1.5\n",
      "    Uninstalling blinker-1.5:\n",
      "      Successfully uninstalled blinker-1.5\n",
      "Successfully installed Werkzeug-3.0.0 blinker-1.6.3 flask-3.0.0 itsdangerous-2.1.2\n",
      "Note: you may need to restart the kernel to use updated packages.\n"
     ]
    }
   ],
   "source": [
    "pip install flask"
   ]
  },
  {
   "cell_type": "markdown",
   "id": "b6ada9d8-7f79-4618-8c33-4e2bfa449b58",
   "metadata": {},
   "source": [
    "In Flask, the redirect() function is used to redirect the client (usually a web browser) to a different URL. This is a common technique used in web development to guide users to a different page or route after they have completed a certain action, such as submitting a form or logging in.\n",
    "\n",
    "Here are a few scenarios where redirect() might be used in a Flask application:\n",
    "\n",
    "Form Submission: After a user submits a form on a website, the server processes the form data and can then redirect the user to a different page. For example, after successfully submitting a contact form, the user might be redirected to a \"Thank You\" page."
   ]
  },
  {
   "cell_type": "code",
   "execution_count": 18,
   "id": "b4bd469b-1a62-411f-9b8f-a9b629ac84f6",
   "metadata": {},
   "outputs": [],
   "source": [
    "from flask import Flask\n",
    "from flask import Blueprint\n",
    "\n",
    "# Blueprint instance creation\n",
    "my_blueprint = Blueprint('my_blueprint', __name__)\n",
    "\n",
    "# Route definition within the blueprint\n",
    "@my_blueprint.route('/submit', methods=['POST'])\n",
    "def submit_form():\n",
    "    # Your route logic here\n",
    "    pass\n",
    "\n",
    "# Flask application creation\n",
    "app = Flask(__name__)\n",
    "\n",
    "# Register the blueprint with the Flask app\n",
    "app.register_blueprint(my_blueprint)\n"
   ]
  },
  {
   "cell_type": "markdown",
   "id": "1af35180-277e-4dc2-bb51-9dd64e25f296",
   "metadata": {},
   "source": [
    "User Authentication: After a user successfully logs in, they might be redirected to their profile page or a dashboard."
   ]
  },
  {
   "cell_type": "code",
   "execution_count": 19,
   "id": "ac98c4e4-6218-41ac-b8b3-dfb1f89b07cc",
   "metadata": {},
   "outputs": [],
   "source": [
    "from flask import redirect, url_for\n",
    "\n",
    "@app.route('/login', methods=['POST'])\n",
    "def login():\n",
    "    # Check user credentials\n",
    "    # ...\n",
    "    # Redirect to profile page after successful login\n",
    "    return redirect(url_for('user_profile'))"
   ]
  },
  {
   "cell_type": "markdown",
   "id": "51555ebf-eee1-46d9-8366-20f61f81f4ff",
   "metadata": {},
   "source": [
    "URL Handling: Redirects can also be used to handle different URL variations or correct common misspellings. For instance, if a user enters a URL with a trailing slash, it can be redirected to the same URL without the slash."
   ]
  },
  {
   "cell_type": "code",
   "execution_count": 20,
   "id": "52ada979-2299-4458-b9f2-9e9c33f766e8",
   "metadata": {},
   "outputs": [],
   "source": [
    "@app.route('/example')\n",
    "def example():\n",
    "    # Handle logic for the /example route\n",
    "    # ...\n",
    "    # Redirect to the correct URL if there is a trailing slash\n",
    "    return redirect(url_for('example'))\n"
   ]
  },
  {
   "cell_type": "markdown",
   "id": "8d6451e4-8696-4b01-a6fa-d6d807187d36",
   "metadata": {},
   "source": [
    "Handling Errors: When an error occurs, the server can redirect the user to an error page to display relevant information about the error."
   ]
  },
  {
   "cell_type": "code",
   "execution_count": 12,
   "id": "763b6d61-781e-47b1-a327-baf92efd8478",
   "metadata": {},
   "outputs": [],
   "source": [
    "from flask import Flask, redirect, render_template\n",
    "\n",
    "app = Flask(__name__)\n",
    "\n",
    "@app.route('/page_not_found')\n",
    "def page_not_found():\n",
    "    return render_template('error.html', error='Page not found'), 404\n",
    "\n",
    "# Example usage in a route handler\n",
    "@app.route('/user/<username>')\n",
    "def user_profile(username):\n",
    "    # logic to fetch user profile, if not found, redirect to the error page\n",
    "    if user_not_found(username):\n",
    "        return redirect('/page_not_found')\n",
    "    else:\n",
    "        # render user profile\n",
    "        return render_template('profile.html', username=username)\n"
   ]
  },
  {
   "cell_type": "code",
   "execution_count": 14,
   "id": "3a471483-c1c0-4a64-8c50-b8191b89a7ea",
   "metadata": {},
   "outputs": [],
   "source": [
    "#Q4"
   ]
  },
  {
   "cell_type": "markdown",
   "id": "fd25f98f-0703-4a51-9180-99f98e572aca",
   "metadata": {},
   "source": [
    "In Flask, templates are used to separate the presentation layer (HTML, CSS, etc.) of a web application from its business logic and data. Templates allow you to create dynamic HTML content by embedding placeholders, which are later filled with actual data when the template is rendered. This separation of concerns makes it easier to maintain and scale web applications, as changes to the user interface can be made without modifying the underlying application logic."
   ]
  },
  {
   "cell_type": "markdown",
   "id": "d6b58b3c-6eb2-4729-b61b-e85449c9697e",
   "metadata": {},
   "source": [
    "The render_template() function in Flask is used to render templates. It takes the name of the template file and any additional variables you want to pass to the template. Here's why render_template() is important and how it is used:"
   ]
  },
  {
   "cell_type": "markdown",
   "id": "64c0658b-6517-4c6a-bec5-39d9f564a291",
   "metadata": {},
   "source": [
    "Rendering Dynamic Content: Templates often contain placeholders, such as {{ variable_name }}, where dynamic content can be inserted. When you call render_template(), Flask replaces these placeholders with actual values before sending the HTML content to the client's browser. This allows you to create dynamic web pages where content varies based on user input or other factors.\n",
    "\n",
    "For example, if you have a variable username that you want to display in a template, you can pass it to the template using render_template():"
   ]
  },
  {
   "cell_type": "code",
   "execution_count": 15,
   "id": "ab548b81-4636-4a3e-9949-6a74d6d21e8e",
   "metadata": {},
   "outputs": [],
   "source": [
    "from flask import Flask, render_template\n",
    "\n",
    "app = Flask(__name__)\n",
    "\n",
    "@app.route('/user/<username>')\n",
    "def user_profile(username):\n",
    "    # assume user_data is fetched from a database or another data source\n",
    "    user_data = get_user_data(username)\n",
    "    \n",
    "    # render the 'profile.html' template with the user_data\n",
    "    return render_template('profile.html', username=username, data=user_data)\n"
   ]
  },
  {
   "cell_type": "code",
   "execution_count": 17,
   "id": "6be48a71-e246-4740-b660-7fcaec56fee3",
   "metadata": {},
   "outputs": [],
   "source": [
    "#Q5"
   ]
  },
  {
   "cell_type": "markdown",
   "id": "835029c8-ed48-4016-b5f0-3d8b1a279212",
   "metadata": {},
   "source": [
    "Certainly! Here's an example of creating a simple API using Flask and how you can test it using Postman.\n",
    "\n",
    "Firstly, install Flask if you haven't already by running:\n"
   ]
  },
  {
   "cell_type": "code",
   "execution_count": 18,
   "id": "6a3fe8db-0dd8-4e95-bfe6-55c13be72eb2",
   "metadata": {},
   "outputs": [
    {
     "name": "stdout",
     "output_type": "stream",
     "text": [
      "Requirement already satisfied: Flask in /opt/conda/lib/python3.10/site-packages (3.0.0)\n",
      "Requirement already satisfied: blinker>=1.6.2 in /opt/conda/lib/python3.10/site-packages (from Flask) (1.6.3)\n",
      "Requirement already satisfied: click>=8.1.3 in /opt/conda/lib/python3.10/site-packages (from Flask) (8.1.3)\n",
      "Requirement already satisfied: itsdangerous>=2.1.2 in /opt/conda/lib/python3.10/site-packages (from Flask) (2.1.2)\n",
      "Requirement already satisfied: Werkzeug>=3.0.0 in /opt/conda/lib/python3.10/site-packages (from Flask) (3.0.0)\n",
      "Requirement already satisfied: Jinja2>=3.1.2 in /opt/conda/lib/python3.10/site-packages (from Flask) (3.1.2)\n",
      "Requirement already satisfied: MarkupSafe>=2.0 in /opt/conda/lib/python3.10/site-packages (from Jinja2>=3.1.2->Flask) (2.1.1)\n",
      "Note: you may need to restart the kernel to use updated packages.\n"
     ]
    }
   ],
   "source": [
    "pip install Flask"
   ]
  },
  {
   "cell_type": "code",
   "execution_count": 19,
   "id": "e835af93-918b-49af-89ef-a75d529ae742",
   "metadata": {},
   "outputs": [
    {
     "name": "stdout",
     "output_type": "stream",
     "text": [
      " * Serving Flask app '__main__'\n",
      " * Debug mode: on\n"
     ]
    },
    {
     "name": "stderr",
     "output_type": "stream",
     "text": [
      "WARNING: This is a development server. Do not use it in a production deployment. Use a production WSGI server instead.\n",
      " * Running on http://127.0.0.1:5000\n",
      "Press CTRL+C to quit\n",
      " * Restarting with stat\n",
      "Traceback (most recent call last):\n",
      "  File \"/opt/conda/lib/python3.10/runpy.py\", line 196, in _run_module_as_main\n",
      "    return _run_code(code, main_globals, None,\n",
      "  File \"/opt/conda/lib/python3.10/runpy.py\", line 86, in _run_code\n",
      "    exec(code, run_globals)\n",
      "  File \"/opt/conda/lib/python3.10/site-packages/ipykernel_launcher.py\", line 17, in <module>\n",
      "    app.launch_new_instance()\n",
      "  File \"/opt/conda/lib/python3.10/site-packages/traitlets/config/application.py\", line 991, in launch_instance\n",
      "    app.initialize(argv)\n",
      "  File \"/opt/conda/lib/python3.10/site-packages/traitlets/config/application.py\", line 113, in inner\n",
      "    return method(app, *args, **kwargs)\n",
      "  File \"/opt/conda/lib/python3.10/site-packages/ipykernel/kernelapp.py\", line 665, in initialize\n",
      "    self.init_sockets()\n",
      "  File \"/opt/conda/lib/python3.10/site-packages/ipykernel/kernelapp.py\", line 309, in init_sockets\n",
      "    self.shell_port = self._bind_socket(self.shell_socket, self.shell_port)\n",
      "  File \"/opt/conda/lib/python3.10/site-packages/ipykernel/kernelapp.py\", line 246, in _bind_socket\n",
      "    return self._try_bind_socket(s, port)\n",
      "  File \"/opt/conda/lib/python3.10/site-packages/ipykernel/kernelapp.py\", line 222, in _try_bind_socket\n",
      "    s.bind(\"tcp://%s:%i\" % (self.ip, port))\n",
      "  File \"/opt/conda/lib/python3.10/site-packages/zmq/sugar/socket.py\", line 232, in bind\n",
      "    super().bind(addr)\n",
      "  File \"zmq/backend/cython/socket.pyx\", line 568, in zmq.backend.cython.socket.Socket.bind\n",
      "  File \"zmq/backend/cython/checkrc.pxd\", line 28, in zmq.backend.cython.checkrc._check_rc\n",
      "zmq.error.ZMQError: Address already in use\n"
     ]
    },
    {
     "ename": "SystemExit",
     "evalue": "1",
     "output_type": "error",
     "traceback": [
      "An exception has occurred, use %tb to see the full traceback.\n",
      "\u001b[0;31mSystemExit\u001b[0m\u001b[0;31m:\u001b[0m 1\n"
     ]
    },
    {
     "name": "stderr",
     "output_type": "stream",
     "text": [
      "/opt/conda/lib/python3.10/site-packages/IPython/core/interactiveshell.py:3441: UserWarning: To exit: use 'exit', 'quit', or Ctrl-D.\n",
      "  warn(\"To exit: use 'exit', 'quit', or Ctrl-D.\", stacklevel=1)\n"
     ]
    }
   ],
   "source": [
    "from flask import Flask, jsonify\n",
    "\n",
    "app = Flask(__name__)\n",
    "\n",
    "@app.route('/api/greet', methods=['GET'])\n",
    "def greet():\n",
    "    response = {\n",
    "        'message': 'Hello, welcome to the API!'\n",
    "    }\n",
    "    return jsonify(response)\n",
    "\n",
    "if __name__ == '__main__':\n",
    "    app.run(debug=True)\n"
   ]
  },
  {
   "cell_type": "code",
   "execution_count": null,
   "id": "4392fc65-a4e2-43aa-8b71-41815614a7a4",
   "metadata": {},
   "outputs": [],
   "source": []
  }
 ],
 "metadata": {
  "kernelspec": {
   "display_name": "Python 3 (ipykernel)",
   "language": "python",
   "name": "python3"
  },
  "language_info": {
   "codemirror_mode": {
    "name": "ipython",
    "version": 3
   },
   "file_extension": ".py",
   "mimetype": "text/x-python",
   "name": "python",
   "nbconvert_exporter": "python",
   "pygments_lexer": "ipython3",
   "version": "3.10.8"
  }
 },
 "nbformat": 4,
 "nbformat_minor": 5
}
